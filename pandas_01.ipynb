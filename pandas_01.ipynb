{
 "cells": [
  {
   "cell_type": "code",
   "execution_count": 1,
   "id": "c5f82513",
   "metadata": {},
   "outputs": [
    {
     "data": {
      "text/plain": [
       "'C:\\\\Users\\\\Muhammed\\\\pandas_toturial'"
      ]
     },
     "execution_count": 1,
     "metadata": {},
     "output_type": "execute_result"
    }
   ],
   "source": [
    "import os\n",
    "os.getcwd()"
   ]
  },
  {
   "cell_type": "code",
   "execution_count": 2,
   "id": "de6976f0",
   "metadata": {},
   "outputs": [],
   "source": [
    "import pandas as pd\n",
    "headers=['name', 'age', 'weight']\n",
    "values =['Azoz', 26, 80]\n",
    "mySeries = pd.Series(index=headers,data=values)\n"
   ]
  },
  {
   "cell_type": "code",
   "execution_count": 3,
   "id": "c9fb5c75",
   "metadata": {},
   "outputs": [
    {
     "data": {
      "text/plain": [
       "name      Azoz\n",
       "age         26\n",
       "weight      80\n",
       "dtype: object"
      ]
     },
     "execution_count": 3,
     "metadata": {},
     "output_type": "execute_result"
    }
   ],
   "source": [
    "mySeries\n"
   ]
  }
 ],
 "metadata": {
  "kernelspec": {
   "display_name": "Python 3 (ipykernel)",
   "language": "python",
   "name": "python3"
  },
  "language_info": {
   "codemirror_mode": {
    "name": "ipython",
    "version": 3
   },
   "file_extension": ".py",
   "mimetype": "text/x-python",
   "name": "python",
   "nbconvert_exporter": "python",
   "pygments_lexer": "ipython3",
   "version": "3.9.13"
  }
 },
 "nbformat": 4,
 "nbformat_minor": 5
}
