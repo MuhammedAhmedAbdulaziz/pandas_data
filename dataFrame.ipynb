{
 "cells": [
  {
   "cell_type": "code",
   "execution_count": 1,
   "id": "11219761",
   "metadata": {},
   "outputs": [],
   "source": [
    "import pandas as pd\n",
    "import numpy as np\n",
    "from numpy.random import randn\n",
    "np.random.seed(1001)\n",
    "# pass any numper to seed to ensure that the same random numbers will be generated,\n",
    "# everytime i will run the code and those random numbers are related to this seed"
   ]
  },
  {
   "cell_type": "code",
   "execution_count": 2,
   "id": "7dc1ddd7",
   "metadata": {},
   "outputs": [],
   "source": [
    "df1 = pd.DataFrame(randn(3,3),index=['x','y','z'], columns=['c1','c2','c3'])\n",
    "df2 = pd.DataFrame(randn(3,3),index=['a','b','b'], columns=['c1','c2','c3'])"
   ]
  },
  {
   "cell_type": "code",
   "execution_count": 3,
   "id": "dfeb1006",
   "metadata": {},
   "outputs": [
    {
     "data": {
      "text/html": [
       "<div>\n",
       "<style scoped>\n",
       "    .dataframe tbody tr th:only-of-type {\n",
       "        vertical-align: middle;\n",
       "    }\n",
       "\n",
       "    .dataframe tbody tr th {\n",
       "        vertical-align: top;\n",
       "    }\n",
       "\n",
       "    .dataframe thead th {\n",
       "        text-align: right;\n",
       "    }\n",
       "</style>\n",
       "<table border=\"1\" class=\"dataframe\">\n",
       "  <thead>\n",
       "    <tr style=\"text-align: right;\">\n",
       "      <th></th>\n",
       "      <th>c1</th>\n",
       "      <th>c2</th>\n",
       "      <th>c3</th>\n",
       "    </tr>\n",
       "  </thead>\n",
       "  <tbody>\n",
       "    <tr>\n",
       "      <th>x</th>\n",
       "      <td>-1.086446</td>\n",
       "      <td>-0.896065</td>\n",
       "      <td>-0.306299</td>\n",
       "    </tr>\n",
       "    <tr>\n",
       "      <th>y</th>\n",
       "      <td>-1.339934</td>\n",
       "      <td>-1.206586</td>\n",
       "      <td>-0.641727</td>\n",
       "    </tr>\n",
       "    <tr>\n",
       "      <th>z</th>\n",
       "      <td>1.307946</td>\n",
       "      <td>1.845460</td>\n",
       "      <td>0.829115</td>\n",
       "    </tr>\n",
       "  </tbody>\n",
       "</table>\n",
       "</div>"
      ],
      "text/plain": [
       "         c1        c2        c3\n",
       "x -1.086446 -0.896065 -0.306299\n",
       "y -1.339934 -1.206586 -0.641727\n",
       "z  1.307946  1.845460  0.829115"
      ]
     },
     "execution_count": 3,
     "metadata": {},
     "output_type": "execute_result"
    }
   ],
   "source": [
    "df1"
   ]
  },
  {
   "cell_type": "code",
   "execution_count": 4,
   "id": "b15f6ca0",
   "metadata": {},
   "outputs": [
    {
     "data": {
      "text/html": [
       "<div>\n",
       "<style scoped>\n",
       "    .dataframe tbody tr th:only-of-type {\n",
       "        vertical-align: middle;\n",
       "    }\n",
       "\n",
       "    .dataframe tbody tr th {\n",
       "        vertical-align: top;\n",
       "    }\n",
       "\n",
       "    .dataframe thead th {\n",
       "        text-align: right;\n",
       "    }\n",
       "</style>\n",
       "<table border=\"1\" class=\"dataframe\">\n",
       "  <thead>\n",
       "    <tr style=\"text-align: right;\">\n",
       "      <th></th>\n",
       "      <th>c1</th>\n",
       "      <th>c2</th>\n",
       "      <th>c3</th>\n",
       "    </tr>\n",
       "  </thead>\n",
       "  <tbody>\n",
       "    <tr>\n",
       "      <th>a</th>\n",
       "      <td>-0.023299</td>\n",
       "      <td>-0.208564</td>\n",
       "      <td>-0.916620</td>\n",
       "    </tr>\n",
       "    <tr>\n",
       "      <th>b</th>\n",
       "      <td>-1.074743</td>\n",
       "      <td>-0.086143</td>\n",
       "      <td>1.175839</td>\n",
       "    </tr>\n",
       "    <tr>\n",
       "      <th>b</th>\n",
       "      <td>-1.635092</td>\n",
       "      <td>1.228194</td>\n",
       "      <td>1.076386</td>\n",
       "    </tr>\n",
       "  </tbody>\n",
       "</table>\n",
       "</div>"
      ],
      "text/plain": [
       "         c1        c2        c3\n",
       "a -0.023299 -0.208564 -0.916620\n",
       "b -1.074743 -0.086143  1.175839\n",
       "b -1.635092  1.228194  1.076386"
      ]
     },
     "execution_count": 4,
     "metadata": {},
     "output_type": "execute_result"
    }
   ],
   "source": [
    "df2"
   ]
  },
  {
   "cell_type": "markdown",
   "id": "1f802bb8",
   "metadata": {},
   "source": [
    "**To get**:\n",
    "\n",
    "1.column `df1['column name']`\n",
    "\n",
    "2.row `df1.loc['row name']`\n",
    "\n",
    "3.row by its index `df1.iloc['row index(x=0,y=1,z=2)']`\n",
    "\n",
    "4.more one row `df1.loc[['x', 'y']]`\n",
    "\n",
    "5.specific rows and columns `df1.loc[['x','y'],['c1','c2']]`\n",
    "\n",
    "6.sum of 2 columns in new column `df1['c4'] = df1['c1'] + df1['c2']`"
   ]
  },
  {
   "cell_type": "code",
   "execution_count": 5,
   "id": "ede4aba1",
   "metadata": {},
   "outputs": [
    {
     "data": {
      "text/plain": [
       "x   -1.086446\n",
       "y   -1.339934\n",
       "z    1.307946\n",
       "Name: c1, dtype: float64"
      ]
     },
     "execution_count": 5,
     "metadata": {},
     "output_type": "execute_result"
    }
   ],
   "source": [
    "df1['c1']"
   ]
  },
  {
   "cell_type": "code",
   "execution_count": 6,
   "id": "ebc1e92a",
   "metadata": {},
   "outputs": [
    {
     "data": {
      "text/plain": [
       "c1   -1.086446\n",
       "c2   -0.896065\n",
       "c3   -0.306299\n",
       "Name: x, dtype: float64"
      ]
     },
     "execution_count": 6,
     "metadata": {},
     "output_type": "execute_result"
    }
   ],
   "source": [
    "df1.loc['x']"
   ]
  },
  {
   "cell_type": "code",
   "execution_count": 7,
   "id": "544f6b81",
   "metadata": {},
   "outputs": [
    {
     "data": {
      "text/plain": [
       "c1   -1.086446\n",
       "c2   -0.896065\n",
       "c3   -0.306299\n",
       "Name: x, dtype: float64"
      ]
     },
     "execution_count": 7,
     "metadata": {},
     "output_type": "execute_result"
    }
   ],
   "source": [
    "df1.iloc[0]"
   ]
  },
  {
   "cell_type": "code",
   "execution_count": 8,
   "id": "ee4abc9e",
   "metadata": {},
   "outputs": [
    {
     "data": {
      "text/html": [
       "<div>\n",
       "<style scoped>\n",
       "    .dataframe tbody tr th:only-of-type {\n",
       "        vertical-align: middle;\n",
       "    }\n",
       "\n",
       "    .dataframe tbody tr th {\n",
       "        vertical-align: top;\n",
       "    }\n",
       "\n",
       "    .dataframe thead th {\n",
       "        text-align: right;\n",
       "    }\n",
       "</style>\n",
       "<table border=\"1\" class=\"dataframe\">\n",
       "  <thead>\n",
       "    <tr style=\"text-align: right;\">\n",
       "      <th></th>\n",
       "      <th>c1</th>\n",
       "      <th>c2</th>\n",
       "      <th>c3</th>\n",
       "    </tr>\n",
       "  </thead>\n",
       "  <tbody>\n",
       "    <tr>\n",
       "      <th>x</th>\n",
       "      <td>-1.086446</td>\n",
       "      <td>-0.896065</td>\n",
       "      <td>-0.306299</td>\n",
       "    </tr>\n",
       "    <tr>\n",
       "      <th>y</th>\n",
       "      <td>-1.339934</td>\n",
       "      <td>-1.206586</td>\n",
       "      <td>-0.641727</td>\n",
       "    </tr>\n",
       "  </tbody>\n",
       "</table>\n",
       "</div>"
      ],
      "text/plain": [
       "         c1        c2        c3\n",
       "x -1.086446 -0.896065 -0.306299\n",
       "y -1.339934 -1.206586 -0.641727"
      ]
     },
     "execution_count": 8,
     "metadata": {},
     "output_type": "execute_result"
    }
   ],
   "source": [
    "df1.loc[['x','y']]"
   ]
  },
  {
   "cell_type": "code",
   "execution_count": 9,
   "id": "12060da6",
   "metadata": {},
   "outputs": [
    {
     "data": {
      "text/html": [
       "<div>\n",
       "<style scoped>\n",
       "    .dataframe tbody tr th:only-of-type {\n",
       "        vertical-align: middle;\n",
       "    }\n",
       "\n",
       "    .dataframe tbody tr th {\n",
       "        vertical-align: top;\n",
       "    }\n",
       "\n",
       "    .dataframe thead th {\n",
       "        text-align: right;\n",
       "    }\n",
       "</style>\n",
       "<table border=\"1\" class=\"dataframe\">\n",
       "  <thead>\n",
       "    <tr style=\"text-align: right;\">\n",
       "      <th></th>\n",
       "      <th>c1</th>\n",
       "      <th>c2</th>\n",
       "    </tr>\n",
       "  </thead>\n",
       "  <tbody>\n",
       "    <tr>\n",
       "      <th>x</th>\n",
       "      <td>-1.086446</td>\n",
       "      <td>-0.896065</td>\n",
       "    </tr>\n",
       "    <tr>\n",
       "      <th>y</th>\n",
       "      <td>-1.339934</td>\n",
       "      <td>-1.206586</td>\n",
       "    </tr>\n",
       "  </tbody>\n",
       "</table>\n",
       "</div>"
      ],
      "text/plain": [
       "         c1        c2\n",
       "x -1.086446 -0.896065\n",
       "y -1.339934 -1.206586"
      ]
     },
     "execution_count": 9,
     "metadata": {},
     "output_type": "execute_result"
    }
   ],
   "source": [
    "df1.loc[['x','y'],['c1','c2']]"
   ]
  },
  {
   "cell_type": "code",
   "execution_count": 10,
   "id": "1dfbdc94",
   "metadata": {},
   "outputs": [
    {
     "data": {
      "text/html": [
       "<div>\n",
       "<style scoped>\n",
       "    .dataframe tbody tr th:only-of-type {\n",
       "        vertical-align: middle;\n",
       "    }\n",
       "\n",
       "    .dataframe tbody tr th {\n",
       "        vertical-align: top;\n",
       "    }\n",
       "\n",
       "    .dataframe thead th {\n",
       "        text-align: right;\n",
       "    }\n",
       "</style>\n",
       "<table border=\"1\" class=\"dataframe\">\n",
       "  <thead>\n",
       "    <tr style=\"text-align: right;\">\n",
       "      <th></th>\n",
       "      <th>c1</th>\n",
       "      <th>c2</th>\n",
       "      <th>c3</th>\n",
       "      <th>c4</th>\n",
       "    </tr>\n",
       "  </thead>\n",
       "  <tbody>\n",
       "    <tr>\n",
       "      <th>x</th>\n",
       "      <td>-1.086446</td>\n",
       "      <td>-0.896065</td>\n",
       "      <td>-0.306299</td>\n",
       "      <td>-1.982511</td>\n",
       "    </tr>\n",
       "    <tr>\n",
       "      <th>y</th>\n",
       "      <td>-1.339934</td>\n",
       "      <td>-1.206586</td>\n",
       "      <td>-0.641727</td>\n",
       "      <td>-2.546519</td>\n",
       "    </tr>\n",
       "    <tr>\n",
       "      <th>z</th>\n",
       "      <td>1.307946</td>\n",
       "      <td>1.845460</td>\n",
       "      <td>0.829115</td>\n",
       "      <td>3.153406</td>\n",
       "    </tr>\n",
       "  </tbody>\n",
       "</table>\n",
       "</div>"
      ],
      "text/plain": [
       "         c1        c2        c3        c4\n",
       "x -1.086446 -0.896065 -0.306299 -1.982511\n",
       "y -1.339934 -1.206586 -0.641727 -2.546519\n",
       "z  1.307946  1.845460  0.829115  3.153406"
      ]
     },
     "execution_count": 10,
     "metadata": {},
     "output_type": "execute_result"
    }
   ],
   "source": [
    "df1['c4'] = df1['c1'] + df1['c2']\n",
    "df1"
   ]
  },
  {
   "cell_type": "code",
   "execution_count": 11,
   "id": "3d66751c",
   "metadata": {},
   "outputs": [],
   "source": [
    "# if axis = 1 => Column\n",
    "newData = df1.drop('c4', axis=1, inplace=True)\n",
    "# if \"inplace\" parameter = True that mean \n",
    "# the change will occure in the source DataFrame not only will take a copy and change it\n",
    "newData"
   ]
  },
  {
   "cell_type": "code",
   "execution_count": 12,
   "id": "e962fb9c",
   "metadata": {},
   "outputs": [
    {
     "data": {
      "text/html": [
       "<div>\n",
       "<style scoped>\n",
       "    .dataframe tbody tr th:only-of-type {\n",
       "        vertical-align: middle;\n",
       "    }\n",
       "\n",
       "    .dataframe tbody tr th {\n",
       "        vertical-align: top;\n",
       "    }\n",
       "\n",
       "    .dataframe thead th {\n",
       "        text-align: right;\n",
       "    }\n",
       "</style>\n",
       "<table border=\"1\" class=\"dataframe\">\n",
       "  <thead>\n",
       "    <tr style=\"text-align: right;\">\n",
       "      <th></th>\n",
       "      <th>c1</th>\n",
       "      <th>c2</th>\n",
       "      <th>c3</th>\n",
       "    </tr>\n",
       "  </thead>\n",
       "  <tbody>\n",
       "    <tr>\n",
       "      <th>x</th>\n",
       "      <td>-1.086446</td>\n",
       "      <td>-0.896065</td>\n",
       "      <td>-0.306299</td>\n",
       "    </tr>\n",
       "    <tr>\n",
       "      <th>y</th>\n",
       "      <td>-1.339934</td>\n",
       "      <td>-1.206586</td>\n",
       "      <td>-0.641727</td>\n",
       "    </tr>\n",
       "    <tr>\n",
       "      <th>z</th>\n",
       "      <td>1.307946</td>\n",
       "      <td>1.845460</td>\n",
       "      <td>0.829115</td>\n",
       "    </tr>\n",
       "  </tbody>\n",
       "</table>\n",
       "</div>"
      ],
      "text/plain": [
       "         c1        c2        c3\n",
       "x -1.086446 -0.896065 -0.306299\n",
       "y -1.339934 -1.206586 -0.641727\n",
       "z  1.307946  1.845460  0.829115"
      ]
     },
     "execution_count": 12,
     "metadata": {},
     "output_type": "execute_result"
    }
   ],
   "source": [
    "df1"
   ]
  },
  {
   "cell_type": "code",
   "execution_count": 13,
   "id": "327fcc93",
   "metadata": {},
   "outputs": [],
   "source": [
    "newData"
   ]
  },
  {
   "cell_type": "code",
   "execution_count": 14,
   "id": "0752583f",
   "metadata": {},
   "outputs": [
    {
     "data": {
      "text/html": [
       "<div>\n",
       "<style scoped>\n",
       "    .dataframe tbody tr th:only-of-type {\n",
       "        vertical-align: middle;\n",
       "    }\n",
       "\n",
       "    .dataframe tbody tr th {\n",
       "        vertical-align: top;\n",
       "    }\n",
       "\n",
       "    .dataframe thead th {\n",
       "        text-align: right;\n",
       "    }\n",
       "</style>\n",
       "<table border=\"1\" class=\"dataframe\">\n",
       "  <thead>\n",
       "    <tr style=\"text-align: right;\">\n",
       "      <th></th>\n",
       "      <th>c1</th>\n",
       "      <th>c2</th>\n",
       "      <th>c3</th>\n",
       "    </tr>\n",
       "  </thead>\n",
       "  <tbody>\n",
       "    <tr>\n",
       "      <th>y</th>\n",
       "      <td>-1.339934</td>\n",
       "      <td>-1.206586</td>\n",
       "      <td>-0.641727</td>\n",
       "    </tr>\n",
       "    <tr>\n",
       "      <th>z</th>\n",
       "      <td>1.307946</td>\n",
       "      <td>1.845460</td>\n",
       "      <td>0.829115</td>\n",
       "    </tr>\n",
       "  </tbody>\n",
       "</table>\n",
       "</div>"
      ],
      "text/plain": [
       "         c1        c2        c3\n",
       "y -1.339934 -1.206586 -0.641727\n",
       "z  1.307946  1.845460  0.829115"
      ]
     },
     "execution_count": 14,
     "metadata": {},
     "output_type": "execute_result"
    }
   ],
   "source": [
    "# if axis = 0 => Row\n",
    "newData2 = df1.drop('x',axis=0 )\n",
    "newData2"
   ]
  },
  {
   "cell_type": "code",
   "execution_count": null,
   "id": "3e4f5bdf",
   "metadata": {},
   "outputs": [],
   "source": []
  }
 ],
 "metadata": {
  "kernelspec": {
   "display_name": "Python 3 (ipykernel)",
   "language": "python",
   "name": "python3"
  },
  "language_info": {
   "codemirror_mode": {
    "name": "ipython",
    "version": 3
   },
   "file_extension": ".py",
   "mimetype": "text/x-python",
   "name": "python",
   "nbconvert_exporter": "python",
   "pygments_lexer": "ipython3",
   "version": "3.10.11"
  }
 },
 "nbformat": 4,
 "nbformat_minor": 5
}
